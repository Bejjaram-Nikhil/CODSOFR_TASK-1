{
 "cells": [
  {
   "cell_type": "code",
   "execution_count": 19,
   "id": "faa28d5e-38c8-46b3-aca8-73d50f519c99",
   "metadata": {},
   "outputs": [],
   "source": [
    "import datetime"
   ]
  },
  {
   "cell_type": "code",
   "execution_count": 1,
   "id": "245e3194-15b8-4376-9af7-42b56a34195d",
   "metadata": {},
   "outputs": [],
   "source": [
    "responses = {\n",
    "    (\"hi\", \"hello\", \"hey\",\"Yoo\"): \"👋 Hello! I'm your friendly chatbot. How can I help you today?\",\n",
    "    (\"how are you\", \"how are you doing\",\"what's up?\"): \"😊 I'm just a bot, but I'm functioning perfectly!\",\n",
    "    (\"what is your name\", \"who are you\"): \"🤖 I’m a chatbot created for the CodeSoft internship! You can call me Chatster.\",\n",
    "    (\"where are you from\",): \"🌐 I'm from the cloud – always connected, always available.\",\n",
    "    (\"what's your favorite color\", \"favourite color\"): \"🎨 I don't see colors, but I think rainbow sounds pretty cool!\",\n",
    "    (\"do you have hobbies\", \"what are your hobbies\"): \"💬 Chatting is my hobby. I love good conversation!\",\n",
    "    (\"what did you eat today\",): \"🍽 I don't eat, but I can suggest recipes if you're hungry!\",\n",
    "    (\"do you like music\", \"do you enjoy music\"): \"🎵 I can't hear music, but I can talk about your favorite artists!\",\n",
    "    (\"bye\", \"goodbye\", \"see you\"): \"👋 Bye! Take care and stay curious!\",\n",
    "}\n"
   ]
  },
  {
   "cell_type": "code",
   "execution_count": 14,
   "id": "c6b74a1b-3004-42c8-8f77-e59c29ff72de",
   "metadata": {},
   "outputs": [],
   "source": [
    "def get_response(user_input):\n",
    "    user_input = user_input.lower()\n",
    "    for keywords, response in responses.items():\n",
    "        if any(keyword in user_input for keyword in keywords):\n",
    "            return response\n",
    "    return \"❓ I'm not sure how to respond to that. Try asking something else!\""
   ]
  },
  {
   "cell_type": "code",
   "execution_count": null,
   "id": "1eed3728-1e8e-4419-bacb-5e78b1f776b3",
   "metadata": {},
   "outputs": [],
   "source": []
  },
  {
   "cell_type": "code",
   "execution_count": 15,
   "id": "eea191bb-72c3-42c4-8f06-2c98e1ac69cd",
   "metadata": {},
   "outputs": [],
   "source": [
    "def get_greeting():\n",
    "    hour = datetime.datetime.now().hour\n",
    "    if 5 <= hour < 12:\n",
    "        return \"🌅 Good morning!\"\n",
    "    elif 12 <= hour < 18:\n",
    "        return \"☀️ Good afternoon!\"\n",
    "    else:\n",
    "        return \"🌙 Good evening!\""
   ]
  },
  {
   "cell_type": "code",
   "execution_count": 16,
   "id": "063f9265-3a97-47ec-a9c3-dc6c822490cc",
   "metadata": {},
   "outputs": [
    {
     "name": "stdout",
     "output_type": "stream",
     "text": [
      "Chatbot: ☀️ Good afternoon! I'm Chatster, your virtual buddy for this internship project!\n"
     ]
    }
   ],
   "source": [
    "print(f\"Chatbot: {get_greeting()} I'm Chatster, your virtual buddy for this internship project!\")"
   ]
  },
  {
   "cell_type": "code",
   "execution_count": 18,
   "id": "f4987af4-0a50-4f02-bc7a-5be016088d84",
   "metadata": {},
   "outputs": [
    {
     "name": "stdin",
     "output_type": "stream",
     "text": [
      "You:  bye\n"
     ]
    },
    {
     "name": "stdout",
     "output_type": "stream",
     "text": [
      "Chatbot: 👋 Goodbye! Have a fantastic day!\n"
     ]
    }
   ],
   "source": [
    "while True:\n",
    "    user_input = input(\"You: \")\n",
    "    if user_input.lower() in [\"bye\", \"goodbye\", \"exit\"]:\n",
    "        print(\"Chatbot: 👋 Goodbye! Have a fantastic day!\")\n",
    "        break\n",
    "    response = get_response(user_input)\n",
    "    print(\"Chatbot:\", response)"
   ]
  },
  {
   "cell_type": "code",
   "execution_count": null,
   "id": "7e87b34d-c9aa-4c63-a4ae-0717aec24fb7",
   "metadata": {},
   "outputs": [],
   "source": []
  }
 ],
 "metadata": {
  "kernelspec": {
   "display_name": "Python 3 (ipykernel)",
   "language": "python",
   "name": "python3"
  },
  "language_info": {
   "codemirror_mode": {
    "name": "ipython",
    "version": 3
   },
   "file_extension": ".py",
   "mimetype": "text/x-python",
   "name": "python",
   "nbconvert_exporter": "python",
   "pygments_lexer": "ipython3",
   "version": "3.12.0"
  }
 },
 "nbformat": 4,
 "nbformat_minor": 5
}
